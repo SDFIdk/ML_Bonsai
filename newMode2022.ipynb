{
 "cells": [
  {
   "cell_type": "code",
   "execution_count": 1,
   "id": "040fe6be",
   "metadata": {},
   "outputs": [],
   "source": [
    "# CLASS MODE "
   ]
  },
  {
   "cell_type": "code",
   "execution_count": null,
   "id": "e9bea151",
   "metadata": {},
   "outputs": [],
   "source": []
  },
  {
   "cell_type": "code",
   "execution_count": 2,
   "id": "225caff6",
   "metadata": {},
   "outputs": [],
   "source": [
    "import os\n",
    "import numpy as np\n",
    "from scipy import ndimage as nd\n",
    "from skimage.filters import rank\n",
    "from osgeo import gdal\n",
    "import time"
   ]
  },
  {
   "cell_type": "code",
   "execution_count": null,
   "id": "c0ca1080",
   "metadata": {},
   "outputs": [],
   "source": []
  },
  {
   "cell_type": "code",
   "execution_count": 3,
   "id": "82dcb3a5",
   "metadata": {},
   "outputs": [],
   "source": [
    "# function til at gemme\n",
    "\n",
    "def write_geotiff(fname, data, geo_transform, projection):\n",
    "    \"\"\"Create a GeoTIFF file with the given data.\"\"\"\n",
    "    driver = gdal.GetDriverByName('GTiff')\n",
    "    rows, cols = data.shape\n",
    "    dataset = driver.Create(fname, cols, rows, 1, gdal.GDT_Byte, [ 'COMPRESS=DEFLATE' ])\n",
    "    dataset.SetGeoTransform(geo_transform)\n",
    "    dataset.SetProjection(projection)\n",
    "    band = dataset.GetRasterBand(1)\n",
    "    band.WriteArray(data)\n",
    "    dataset = None  # Close the file"
   ]
  },
  {
   "cell_type": "code",
   "execution_count": null,
   "id": "b6533f9e",
   "metadata": {},
   "outputs": [],
   "source": []
  },
  {
   "cell_type": "code",
   "execution_count": 4,
   "id": "701fc239",
   "metadata": {},
   "outputs": [],
   "source": [
    "superDir = r\"C:\\\\bonsai\\\\\" # dine bi lleder\n",
    "superDir = r\"E:\\Bonsai2022FraAsk\\testImages\\class\\\\\" # Test\n",
    "superDir = r\"E:\\Bonsai2022FraAsk\\OUTPUTS\\batcherDir\\\\\""
   ]
  },
  {
   "cell_type": "code",
   "execution_count": null,
   "id": "e9ee1324",
   "metadata": {},
   "outputs": [],
   "source": []
  },
  {
   "cell_type": "code",
   "execution_count": 5,
   "id": "dad62e1e",
   "metadata": {},
   "outputs": [
    {
     "name": "stdout",
     "output_type": "stream",
     "text": [
      "E:\\Bonsai2022FraAsk\\OUTPUTS\\batcherDir\\\\81_01_mode\\\n",
      "E:\\Bonsai2022FraAsk\\OUTPUTS\\batcherDir\\\\81_02_mode\\\n",
      "E:\\Bonsai2022FraAsk\\OUTPUTS\\batcherDir\\\\81_03_mode\\\n",
      "E:\\Bonsai2022FraAsk\\OUTPUTS\\batcherDir\\\\81_04_mode\\\n",
      "E:\\Bonsai2022FraAsk\\OUTPUTS\\batcherDir\\\\81_05_mode\\\n",
      "E:\\Bonsai2022FraAsk\\OUTPUTS\\batcherDir\\\\81_06_mode\\\n",
      "E:\\Bonsai2022FraAsk\\OUTPUTS\\batcherDir\\\\81_07_mode\\\n",
      "E:\\Bonsai2022FraAsk\\OUTPUTS\\batcherDir\\\\81_08_mode\\\n",
      "E:\\Bonsai2022FraAsk\\OUTPUTS\\batcherDir\\\\81_09_mode\\\n",
      "E:\\Bonsai2022FraAsk\\OUTPUTS\\batcherDir\\\\81_10_mode\\\n",
      "E:\\Bonsai2022FraAsk\\OUTPUTS\\batcherDir\\\\82_11_mode\\\n",
      "E:\\Bonsai2022FraAsk\\OUTPUTS\\batcherDir\\\\82_12_mode\\\n",
      "E:\\Bonsai2022FraAsk\\OUTPUTS\\batcherDir\\\\82_13_mode\\\n",
      "E:\\Bonsai2022FraAsk\\OUTPUTS\\batcherDir\\\\82_14_mode\\\n",
      "E:\\Bonsai2022FraAsk\\OUTPUTS\\batcherDir\\\\82_15_mode\\\n",
      "E:\\Bonsai2022FraAsk\\OUTPUTS\\batcherDir\\\\82_16_mode\\\n",
      "E:\\Bonsai2022FraAsk\\OUTPUTS\\batcherDir\\\\82_17_mode\\\n",
      "E:\\Bonsai2022FraAsk\\OUTPUTS\\batcherDir\\\\82_18_mode\\\n",
      "E:\\Bonsai2022FraAsk\\OUTPUTS\\batcherDir\\\\82_19_mode\\\n",
      "E:\\Bonsai2022FraAsk\\OUTPUTS\\batcherDir\\\\82_20_mode\\\n",
      "E:\\Bonsai2022FraAsk\\OUTPUTS\\batcherDir\\\\82_21_mode\\\n",
      "E:\\Bonsai2022FraAsk\\OUTPUTS\\batcherDir\\\\82_22_mode\\\n",
      "E:\\Bonsai2022FraAsk\\OUTPUTS\\batcherDir\\\\82_23_mode\\\n",
      "E:\\Bonsai2022FraAsk\\OUTPUTS\\batcherDir\\\\82_24_mode\\\n",
      "E:\\Bonsai2022FraAsk\\OUTPUTS\\batcherDir\\\\83_25_mode\\\n",
      "E:\\Bonsai2022FraAsk\\OUTPUTS\\batcherDir\\\\83_26_mode\\\n",
      "E:\\Bonsai2022FraAsk\\OUTPUTS\\batcherDir\\\\83_27_mode\\\n",
      "E:\\Bonsai2022FraAsk\\OUTPUTS\\batcherDir\\\\83_28_mode\\\n",
      "E:\\Bonsai2022FraAsk\\OUTPUTS\\batcherDir\\\\83_29_mode\\\n",
      "E:\\Bonsai2022FraAsk\\OUTPUTS\\batcherDir\\\\83_30_mode\\\n",
      "E:\\Bonsai2022FraAsk\\OUTPUTS\\batcherDir\\\\83_31_mode\\\n",
      "E:\\Bonsai2022FraAsk\\OUTPUTS\\batcherDir\\\\83_32_mode\\\n",
      "E:\\Bonsai2022FraAsk\\OUTPUTS\\batcherDir\\\\83_33_mode\\\n",
      "E:\\Bonsai2022FraAsk\\OUTPUTS\\batcherDir\\\\83_34_mode\\\n",
      "E:\\Bonsai2022FraAsk\\OUTPUTS\\batcherDir\\\\83_35_mode\\\n",
      "E:\\Bonsai2022FraAsk\\OUTPUTS\\batcherDir\\\\83_36_mode\\\n",
      "E:\\Bonsai2022FraAsk\\OUTPUTS\\batcherDir\\\\83_37_mode\\\n",
      "E:\\Bonsai2022FraAsk\\OUTPUTS\\batcherDir\\\\83_38_mode\\\n",
      "E:\\Bonsai2022FraAsk\\OUTPUTS\\batcherDir\\\\83_39_mode\\\n",
      "E:\\Bonsai2022FraAsk\\OUTPUTS\\batcherDir\\\\84_40_mode\\\n",
      "E:\\Bonsai2022FraAsk\\OUTPUTS\\batcherDir\\\\84_41_mode\\\n",
      "E:\\Bonsai2022FraAsk\\OUTPUTS\\batcherDir\\\\84_42_mode\\\n",
      "E:\\Bonsai2022FraAsk\\OUTPUTS\\batcherDir\\\\84_43_mode\\\n",
      "E:\\Bonsai2022FraAsk\\OUTPUTS\\batcherDir\\\\85_44_mode\\\n",
      "E:\\Bonsai2022FraAsk\\OUTPUTS\\batcherDir\\\\85_45_mode\\\n",
      "E:\\Bonsai2022FraAsk\\OUTPUTS\\batcherDir\\\\85_46_mode\\\n",
      "E:\\Bonsai2022FraAsk\\OUTPUTS\\batcherDir\\\\85_47_mode\\\n",
      "E:\\Bonsai2022FraAsk\\OUTPUTS\\batcherDir\\\\85_48_mode\\\n",
      "E:\\Bonsai2022FraAsk\\OUTPUTS\\batcherDir\\\\85_49_mode\\\n",
      "E:\\Bonsai2022FraAsk\\OUTPUTS\\batcherDir\\\\85_50_mode\\\n",
      "E:\\Bonsai2022FraAsk\\OUTPUTS\\batcherDir\\\\85_51_mode\\\n",
      "E:\\Bonsai2022FraAsk\\OUTPUTS\\batcherDir\\\\85_52_mode\\\n",
      "E:\\Bonsai2022FraAsk\\OUTPUTS\\batcherDir\\\\85_53_mode\\\n"
     ]
    }
   ],
   "source": [
    "structure=np.ones((3, 3)) # Størrelsen på dit filter\n",
    "for subDir in os.listdir(superDir):\n",
    "    if len(subDir) != 5: # svarer til længden på navnet af en blok (i mappenavnet)\n",
    "        continue\n",
    "    indir = superDir+subDir+\"\\\\\"\n",
    "    outdir = superDir+subDir+\"_mode\\\\\" #Den laver en ny mappe med _mode suffiks\n",
    "    if not os.path.exists(outdir):\n",
    "        os.makedirs(outdir)\n",
    "    print(outdir)\n",
    "    for image in os.listdir(indir):\n",
    "        if image.endswith('tif'): \n",
    "            # In and out\n",
    "            tif4mode= indir+image\n",
    "            fname = outdir+\"\\\\\"+\"mode3_\"+image # filernes præfiks\n",
    "            #print(fname)\n",
    "            if os.path.isfile(fname): # hvis filen allerede er lavet til mode, springes disse over \n",
    "                #print(fname)         \n",
    "                continue\n",
    "            # læser img as array\n",
    "            img = gdal.Open(tif4mode, gdal.GA_ReadOnly)\n",
    "            imgar = img.ReadAsArray()\n",
    "            # skaffer georef and proj\n",
    "            geo_transform = img.GetGeoTransform()\n",
    "            proj = img.GetProjectionRef()\n",
    "            # laver mode \n",
    "            resul2t = rank.windowed_histogram(imgar, structure).argmax(axis=-1).astype(\"uint8\")\n",
    "            # Gemmer din geotif vha. af den ovenstående function\n",
    "            write_geotiff(fname, resul2t, geo_transform, proj)\n",
    "            \n",
    "    "
   ]
  },
  {
   "cell_type": "code",
   "execution_count": null,
   "id": "1ebfdf66",
   "metadata": {},
   "outputs": [],
   "source": []
  },
  {
   "cell_type": "code",
   "execution_count": null,
   "id": "9d7f1852",
   "metadata": {},
   "outputs": [],
   "source": []
  }
 ],
 "metadata": {
  "kernelspec": {
   "display_name": "Python 3 (ipykernel)",
   "language": "python",
   "name": "python3"
  },
  "language_info": {
   "codemirror_mode": {
    "name": "ipython",
    "version": 3
   },
   "file_extension": ".py",
   "mimetype": "text/x-python",
   "name": "python",
   "nbconvert_exporter": "python",
   "pygments_lexer": "ipython3",
   "version": "3.10.4"
  }
 },
 "nbformat": 4,
 "nbformat_minor": 5
}

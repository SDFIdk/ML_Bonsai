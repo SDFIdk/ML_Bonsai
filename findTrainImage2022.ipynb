{
 "cells": [
  {
   "cell_type": "code",
   "execution_count": 1,
   "id": "6cce5282",
   "metadata": {},
   "outputs": [],
   "source": [
    "import os\n",
    "from datetime import datetime\n",
    "import glob\n",
    "import shutil"
   ]
  },
  {
   "cell_type": "code",
   "execution_count": null,
   "id": "2d5a8677",
   "metadata": {},
   "outputs": [],
   "source": []
  },
  {
   "cell_type": "code",
   "execution_count": 2,
   "id": "1fe82b43",
   "metadata": {},
   "outputs": [],
   "source": [
    "#Træningsområder\n",
    "trainId = r\"E:\\Bonsai2022FraAsk\\train\\trainAreasTileList.txt\"\n",
    "# ortofoto dir\n",
    "#imgDir = r\"P:\\ASS\\2019\\2019_foraars_orto\\disk_lev\\tif_jpeg\\\\\"\n",
    "imgDir = r\"Q:\\2022\\2022_foraars_orto\\\\\"\n",
    "endDir = r\"E:\\Bonsai2022FraAsk\\train\\trainImages\\\\\""
   ]
  },
  {
   "cell_type": "code",
   "execution_count": 3,
   "id": "fb1c0e30",
   "metadata": {},
   "outputs": [],
   "source": [
    "with open(trainId) as f:\n",
    "    trainAreas = f.readlines()"
   ]
  },
  {
   "cell_type": "code",
   "execution_count": 4,
   "id": "21bc1d82",
   "metadata": {},
   "outputs": [
    {
     "data": {
      "text/plain": [
       "['1km_6138_583', '1km_6138_584']"
      ]
     },
     "execution_count": 4,
     "metadata": {},
     "output_type": "execute_result"
    }
   ],
   "source": [
    "trainList = []\n",
    "for i in trainAreas:\n",
    "    trainList.append(i.strip())\n",
    "trainList[:2]"
   ]
  },
  {
   "cell_type": "code",
   "execution_count": 5,
   "id": "9ba855a5",
   "metadata": {},
   "outputs": [
    {
     "name": "stdout",
     "output_type": "stream",
     "text": [
      "Current Time = 11:39:43\n",
      "Current Time = 11:41:51\n"
     ]
    }
   ],
   "source": [
    "# laver en Liste over billeder på NAS'en. tager ca. 2-3 min for en hel årgang ortofoto.\n",
    "now = datetime.now()\n",
    "current_time = now.strftime(\"%H:%M:%S\")\n",
    "print(\"Current Time =\", current_time)\n",
    "oList = []\n",
    "imgList = glob.glob(imgDir+'/**/*.tif', recursive=True)\n",
    "now = datetime.now()\n",
    "current_time = now.strftime(\"%H:%M:%S\")\n",
    "print(\"Current Time =\", current_time)"
   ]
  },
  {
   "cell_type": "code",
   "execution_count": 6,
   "id": "5ffda0f2",
   "metadata": {},
   "outputs": [
    {
     "data": {
      "text/plain": [
       "['Q:\\\\2022\\\\2022_foraars_orto\\\\77_77\\\\tifjpeg\\\\2022_1km_6165_701.tif',\n",
       " 'Q:\\\\2022\\\\2022_foraars_orto\\\\77_77\\\\tifjpeg\\\\2022_1km_6165_709.tif']"
      ]
     },
     "execution_count": 6,
     "metadata": {},
     "output_type": "execute_result"
    }
   ],
   "source": [
    "imgList[:2]"
   ]
  },
  {
   "cell_type": "code",
   "execution_count": 9,
   "id": "31616ee7",
   "metadata": {},
   "outputs": [],
   "source": [
    "# finder billederne fra træningsområderne på NAS'en og kopier dem til \"imgdir\"\n",
    "for img in imgList:\n",
    "    imgid = img.split('\\\\')[-1].replace(\"2022_1\",\"1\").rstrip(\".tif\")\n",
    "    if imgid in trainList:\n",
    "        src = img\n",
    "        dst = endDir+imgid+\".tif\"\n",
    "        shutil.copyfile(src, dst)"
   ]
  },
  {
   "cell_type": "code",
   "execution_count": null,
   "id": "dffdc2f7",
   "metadata": {},
   "outputs": [],
   "source": []
  }
 ],
 "metadata": {
  "kernelspec": {
   "display_name": "Python 3 (ipykernel)",
   "language": "python",
   "name": "python3"
  },
  "language_info": {
   "codemirror_mode": {
    "name": "ipython",
    "version": 3
   },
   "file_extension": ".py",
   "mimetype": "text/x-python",
   "name": "python",
   "nbconvert_exporter": "python",
   "pygments_lexer": "ipython3",
   "version": "3.10.4"
  }
 },
 "nbformat": 4,
 "nbformat_minor": 5
}
